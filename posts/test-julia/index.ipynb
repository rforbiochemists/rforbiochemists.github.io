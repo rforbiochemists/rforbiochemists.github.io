{
  "cells": [
    {
      "cell_type": "raw",
      "metadata": {},
      "source": [
        "---\n",
        "title: \"Example Julia Document\"\n",
        "subtitle: \"How do I make a standard curve in R?\"\n",
        "tags: [data vis, julia, standard curve, tutorial]\n",
        "date: today\n",
        "author: Brady Johnston\n",
        "editor: visual\n",
        "toc: true\n",
        "code-fold: show\n",
        "code-link: true\n",
        "code-line-numbers: true  \n",
        "  \n",
        "---"
      ],
      "id": "d6a16153"
    },
    {
      "cell_type": "markdown",
      "metadata": {},
      "source": [
        "# Below will be some `Julia` code."
      ],
      "id": "9a7463af"
    },
    {
      "cell_type": "code",
      "metadata": {},
      "source": [
        "using Plots\n",
        "Plots.plot(1:10, randn(10))"
      ],
      "id": "f6798c00",
      "execution_count": null,
      "outputs": []
    },
    {
      "cell_type": "markdown",
      "metadata": {},
      "source": [
        "Now that's ssome julia code!"
      ],
      "id": "a5fd45d8"
    },
    {
      "cell_type": "code",
      "metadata": {},
      "source": [
        "for i in 1:10\n",
        "    println(i)\n",
        "end"
      ],
      "id": "bce902d0",
      "execution_count": null,
      "outputs": []
    },
    {
      "cell_type": "markdown",
      "metadata": {},
      "source": [
        "And some more text down here."
      ],
      "id": "cbe3d8b4"
    },
    {
      "cell_type": "code",
      "metadata": {},
      "source": [
        "using Plots\n",
        "default(legend = false)\n",
        "x = y = range(-5, 5, length = 40)\n",
        "zs = zeros(0, 40)\n",
        "n = 100\n",
        "\n",
        "@gif for i in range(0, stop = 2π, length = n)\n",
        "    f(x, y) = sin(x + 10sin(i)) + cos(y)\n",
        "\n",
        "    # create a plot with 3 subplots and a custom layout\n",
        "    l = @layout [a{0.7w} b; c{0.2h}]\n",
        "    p = plot(x, y, f, st = [:surface, :contourf], layout = l)\n",
        "\n",
        "    # induce a slight oscillating camera angle sweep, in degrees (azimuth, altitude)\n",
        "    plot!(p[1], camera = (10 * (1 + cos(i)), 40))\n",
        "\n",
        "    # add a tracking line\n",
        "    fixed_x = zeros(40)\n",
        "    z = map(f, fixed_x, y)\n",
        "    plot!(p[1], fixed_x, y, z, line = (:black, 5, 0.2))\n",
        "    vline!(p[2], [0], line = (:black, 5))\n",
        "\n",
        "    # add to and show the tracked values over time\n",
        "    global zs = vcat(zs, z')\n",
        "    plot!(p[3], zs, alpha = 0.2, palette = cgrad(:blues).colors)\n",
        "end"
      ],
      "id": "b5c14abb",
      "execution_count": null,
      "outputs": []
    },
    {
      "cell_type": "code",
      "metadata": {},
      "source": [
        "#using Pkg\n",
        "#Pkg.add(\"DataFrames\")\n",
        "using DataFrames"
      ],
      "id": "6e7586a2",
      "execution_count": null,
      "outputs": []
    },
    {
      "cell_type": "code",
      "metadata": {},
      "source": [
        "using CSV\n",
        "using DataFrames\n",
        "fl = \"/Users/brady/git/thesis/figures/data/smfret/all-traces.tsv\"\n",
        "df = DataFrame(CSV.File(fl; header = 1, delim = \"\\t\"))"
      ],
      "id": "12fa82bf",
      "execution_count": null,
      "outputs": []
    },
    {
      "cell_type": "code",
      "metadata": {},
      "source": [
        "frames = df[:, \"frame\"]\n",
        "don = df[:, \"don\"]\n",
        "acc = df[:, \"acc\"]\n",
        "\n",
        "\n",
        "\n",
        "anim = Animation()\n",
        "\n",
        "for rna in 0:13\n",
        "    df_sub = df[df[:, :rna] .== rna, :]\n",
        "    for mol in range(1, 20)\n",
        "        df_sub_sub = df_sub[df_sub[:, :mol] .== mol, :]\n",
        "        frames = df_sub_sub[:, \"frame\"]\n",
        "        don = df_sub_sub[:, \"don\"]\n",
        "        acc = df_sub_sub[:, \"acc\"]\n",
        "        frame(anim, plot(frames, [don, acc], title = rna))\n",
        "    end\n",
        "end \n",
        "\n",
        "gif(anim, fps = 20)\n"
      ],
      "id": "3c3e33cc",
      "execution_count": null,
      "outputs": []
    },
    {
      "cell_type": "code",
      "metadata": {},
      "source": [
        "data = df[df.rna .== 1, :]\n",
        "histogram(data.fret, xlims = [0, 1])\n",
        "\n",
        "anim = Animation()\n",
        "for time in range(1, 60 / 0.2)\n",
        "    fret = data[data.frame .<= time, :fret]\n",
        "    time_s = round(time * 0.2)\n",
        "    plt = histogram(fret, \n",
        "        ylims = [0, 1], \n",
        "        title = \"Time: $time_s s\",\n",
        "        bins = 0:0.05:1, \n",
        "        orientation = :H\n",
        "        )\n",
        "    frame(anim, plt)\n",
        "end\n",
        "\n",
        "gif(anim, fps = 10)"
      ],
      "id": "7c3446c9",
      "execution_count": null,
      "outputs": []
    },
    {
      "cell_type": "code",
      "metadata": {},
      "source": [
        "using Gadfly\n",
        "data = data[data.mol .== 1 .& data.rna .== 1, :]\n",
        "df2 = stack(data)\n",
        "\n",
        "df2 = df2[in.(df2.variable, Ref([\"don\", \"acc\"])), :]\n",
        "\n",
        "p = Gadfly.plot(x = df2.value, colour = df2.variable, Geom.histogram(bincount = 20))\n",
        "p"
      ],
      "id": "2e23360b",
      "execution_count": null,
      "outputs": []
    },
    {
      "cell_type": "code",
      "metadata": {},
      "source": [
        "gridstack([p p; p p])"
      ],
      "id": "56ade214",
      "execution_count": null,
      "outputs": []
    }
  ],
  "metadata": {
    "kernelspec": {
      "name": "julia-1.7",
      "language": "julia",
      "display_name": "Julia 1.7.2"
    }
  },
  "nbformat": 4,
  "nbformat_minor": 5
}